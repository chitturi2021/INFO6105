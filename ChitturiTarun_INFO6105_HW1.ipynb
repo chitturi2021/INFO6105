{
 "cells": [
  {
   "cell_type": "markdown",
   "metadata": {},
   "source": [
    "# Part - 1 Create Numpy Arrays:"
   ]
  },
  {
   "cell_type": "code",
   "execution_count": 1,
   "metadata": {},
   "outputs": [],
   "source": [
    "import numpy as np"
   ]
  },
  {
   "cell_type": "code",
   "execution_count": 2,
   "metadata": {},
   "outputs": [
    {
     "data": {
      "text/plain": [
       "array([1, 2, 3])"
      ]
     },
     "execution_count": 2,
     "metadata": {},
     "output_type": "execute_result"
    }
   ],
   "source": [
    "#Create an array of [1, 2, 3]. - 1 point\n",
    "\n",
    "a1=np.array([1,2,3])\n",
    "a1"
   ]
  },
  {
   "cell_type": "code",
   "execution_count": 3,
   "metadata": {},
   "outputs": [
    {
     "data": {
      "text/plain": [
       "array([1, 2])"
      ]
     },
     "execution_count": 3,
     "metadata": {},
     "output_type": "execute_result"
    }
   ],
   "source": [
    "#Let x = [1, 2]. Convert it into an array. - 1 point\n",
    "\n",
    "x=[1,2]\n",
    "a2=np.array(x)\n",
    "a2"
   ]
  },
  {
   "cell_type": "code",
   "execution_count": 4,
   "metadata": {},
   "outputs": [
    {
     "data": {
      "text/plain": [
       "array([[1, 1],\n",
       "       [1, 1],\n",
       "       [1, 1]])"
      ]
     },
     "execution_count": 4,
     "metadata": {},
     "output_type": "execute_result"
    }
   ],
   "source": [
    "#Create an 2D array with shape of (3,2), filled with ones. - 1 point\n",
    "a3=np.ones((3,2),int)\n",
    "a3"
   ]
  },
  {
   "cell_type": "code",
   "execution_count": 5,
   "metadata": {},
   "outputs": [
    {
     "data": {
      "text/plain": [
       "array([[1, 0, 0],\n",
       "       [0, 1, 0],\n",
       "       [0, 0, 1]])"
      ]
     },
     "execution_count": 5,
     "metadata": {},
     "output_type": "execute_result"
    }
   ],
   "source": [
    "#Create a 3x3 2D array with ones on the diagonal and zeros elsewhere. - 1 point\n",
    "a4=np.zeros((3,3),int)\n",
    "np.fill_diagonal(a4,1)\n",
    "a4"
   ]
  },
  {
   "cell_type": "code",
   "execution_count": 6,
   "metadata": {},
   "outputs": [
    {
     "data": {
      "text/plain": [
       "array([[6, 6, 6, 6, 6],\n",
       "       [6, 6, 6, 6, 6]])"
      ]
     },
     "execution_count": 6,
     "metadata": {},
     "output_type": "execute_result"
    }
   ],
   "source": [
    "#Create an 2D array of 2 x 5 shape, filled with 6. - 1 point\n",
    "a5=np.full((2,5),6)\n",
    "a5"
   ]
  },
  {
   "cell_type": "code",
   "execution_count": 7,
   "metadata": {},
   "outputs": [
    {
     "data": {
      "text/plain": [
       "array([  2,   4,   6,   8,  10,  12,  14,  16,  18,  20,  22,  24,  26,\n",
       "        28,  30,  32,  34,  36,  38,  40,  42,  44,  46,  48,  50,  52,\n",
       "        54,  56,  58,  60,  62,  64,  66,  68,  70,  72,  74,  76,  78,\n",
       "        80,  82,  84,  86,  88,  90,  92,  94,  96,  98, 100])"
      ]
     },
     "execution_count": 7,
     "metadata": {},
     "output_type": "execute_result"
    }
   ],
   "source": [
    "#Create an array of 2, 4, 6, 8, ..., 98, 100. - 1 point\n",
    "a6=np.arange(2,101,2)\n",
    "a6"
   ]
  },
  {
   "cell_type": "code",
   "execution_count": 8,
   "metadata": {},
   "outputs": [
    {
     "data": {
      "text/plain": [
       "array([0, 0, 0, 0, 0, 0, 0, 0, 0, 0])"
      ]
     },
     "execution_count": 8,
     "metadata": {},
     "output_type": "execute_result"
    }
   ],
   "source": [
    "#create (1) an array of 10 zeros; (2) an array of 10 fives. - 2 points\n",
    "a71=np.zeros((10),int)\n",
    "a71"
   ]
  },
  {
   "cell_type": "code",
   "execution_count": 9,
   "metadata": {},
   "outputs": [
    {
     "data": {
      "text/plain": [
       "array([5, 5, 5, 5, 5, 5, 5, 5, 5, 5])"
      ]
     },
     "execution_count": 9,
     "metadata": {},
     "output_type": "execute_result"
    }
   ],
   "source": [
    "a72=np.full((10),5)\n",
    "a72"
   ]
  },
  {
   "cell_type": "code",
   "execution_count": 10,
   "metadata": {},
   "outputs": [
    {
     "data": {
      "text/plain": [
       "array([[[5.86850714e-01, 2.22872665e-01, 7.34374598e-01],\n",
       "        [1.07113893e-01, 5.78928267e-01, 1.09961189e-01],\n",
       "        [3.50874359e-01, 9.90925691e-01, 5.42202542e-01]],\n",
       "\n",
       "       [[6.25419548e-01, 3.83686038e-04, 4.62522855e-01],\n",
       "        [4.27197236e-03, 1.03349118e-01, 2.29756945e-01],\n",
       "        [1.14670450e-01, 2.51859404e-02, 9.92260692e-01]],\n",
       "\n",
       "       [[1.13270707e-01, 2.59626802e-01, 9.62403710e-01],\n",
       "        [2.33984155e-01, 9.01779065e-01, 4.24338376e-01],\n",
       "        [5.99310229e-01, 1.22388906e-02, 1.73837727e-01]]])"
      ]
     },
     "execution_count": 10,
     "metadata": {},
     "output_type": "execute_result"
    }
   ],
   "source": [
    "#create an 3x3x3 array filled with arbitrary values. - 1 points\n",
    "a8=np.random.rand(3,3,3)\n",
    "a8"
   ]
  },
  {
   "cell_type": "code",
   "execution_count": 51,
   "metadata": {},
   "outputs": [
    {
     "data": {
      "text/plain": [
       "array([[12, 17, 11, 20],\n",
       "       [16, 20, 16, 10],\n",
       "       [20, 17, 12, 13]])"
      ]
     },
     "execution_count": 51,
     "metadata": {},
     "output_type": "execute_result"
    }
   ],
   "source": [
    "# create a 3x4 2D array filled with values from 10 to 21 (inclusive). - 2 points\n",
    "a9=np.random.randint(10,22,(3,4))\n",
    "a9"
   ]
  },
  {
   "cell_type": "code",
   "execution_count": 50,
   "metadata": {},
   "outputs": [
    {
     "data": {
      "text/plain": [
       "array([[10, 11, 12, 13],\n",
       "       [14, 15, 16, 17],\n",
       "       [18, 19, 20, 21]])"
      ]
     },
     "execution_count": 50,
     "metadata": {},
     "output_type": "execute_result"
    }
   ],
   "source": [
    "a91=np.arange(10,22).reshape((3,4))\n",
    "a91"
   ]
  },
  {
   "cell_type": "code",
   "execution_count": 12,
   "metadata": {},
   "outputs": [
    {
     "data": {
      "text/plain": [
       "array([ 5,  8, 11, 14, 17, 20, 23, 26, 29, 32])"
      ]
     },
     "execution_count": 12,
     "metadata": {},
     "output_type": "execute_result"
    }
   ],
   "source": [
    "#Create a numpy array of length 10, starting from 5 and has a step of 3 between consecutive numbers - 4 points\n",
    "num=10\n",
    "a10=np.linspace(5,5+(num*3),10,dtype=int,endpoint=False)\n",
    "a10"
   ]
  },
  {
   "cell_type": "markdown",
   "metadata": {},
   "source": [
    "# Part - 2 Operations on Numpy Arrays:"
   ]
  },
  {
   "cell_type": "code",
   "execution_count": 13,
   "metadata": {},
   "outputs": [
    {
     "data": {
      "text/plain": [
       "array([[0.5488135 , 0.71518937],\n",
       "       [0.60276338, 0.54488318],\n",
       "       [0.4236548 , 0.64589411]])"
      ]
     },
     "execution_count": 13,
     "metadata": {},
     "output_type": "execute_result"
    }
   ],
   "source": [
    "#Create an array of shape (3, 2) and populate it with random samples from a uniform distribution over [0, 1) and confirm you can get the same value when you run it next time. - 2 points\n",
    "np.random.seed(0) \n",
    "b1 = np.random.uniform(0,1, size=(3,2))\n",
    "b1"
   ]
  },
  {
   "cell_type": "code",
   "execution_count": 14,
   "metadata": {},
   "outputs": [
    {
     "data": {
      "text/plain": [
       "8"
      ]
     },
     "execution_count": 14,
     "metadata": {},
     "output_type": "execute_result"
    }
   ],
   "source": [
    "#Find the index of 5th repetition of number 1 in the given array x. - 4 points\n",
    "#x: [1, 2, 1, 1, 3, 4, 3, 1, 1, 2, 1, 1, 2]\n",
    "x=np.array([1, 2, 1, 1, 3, 4, 3, 1, 1, 2, 1, 1, 2])\n",
    "b2=np.where(x==1)\n",
    "b2[0][4]"
   ]
  },
  {
   "cell_type": "code",
   "execution_count": 15,
   "metadata": {},
   "outputs": [
    {
     "data": {
      "text/plain": [
       "(array([1, 2, 3, 4]), array([5, 6]), array([7, 8, 9]))"
      ]
     },
     "execution_count": 15,
     "metadata": {},
     "output_type": "execute_result"
    }
   ],
   "source": [
    "#Let x be an array [1, 2, 3, ..., 9]. Split x into 3 arrays, each of which has 4, 2, and 3 elements in the original order. - 2 points\n",
    "b3=np.arange(1,10)\n",
    "b31,b32,b33=np.split(b3,[4,6])\n",
    "b31,b32,b33"
   ]
  },
  {
   "cell_type": "code",
   "execution_count": 16,
   "metadata": {},
   "outputs": [
    {
     "data": {
      "text/plain": [
       "(array([[ 0.,  1.],\n",
       "        [ 4.,  5.],\n",
       "        [ 8.,  9.],\n",
       "        [12., 13.]]),\n",
       " array([[ 2.,  3.],\n",
       "        [ 6.,  7.],\n",
       "        [10., 11.],\n",
       "        [14., 15.]]))"
      ]
     },
     "execution_count": 16,
     "metadata": {},
     "output_type": "execute_result"
    }
   ],
   "source": [
    "'''\n",
    "Given an array - 2 points\n",
    "    [[ 0., 1., 2., 3.], [ 4., 5., 6., 7.], [ 8., 9., 10., 11.], [ 12., 13., 14., 15.]].\n",
    "    Use np.split to split the array into left and right halves.\n",
    "'''\n",
    "x=np.arange(16.0).reshape(4, 4)\n",
    "b41,b42=np.split(x, 2,axis=1)\n",
    "b41,b42"
   ]
  },
  {
   "cell_type": "code",
   "execution_count": 17,
   "metadata": {},
   "outputs": [
    {
     "data": {
      "text/plain": [
       "array([[10, 15],\n",
       "       [25, 30]])"
      ]
     },
     "execution_count": 17,
     "metadata": {},
     "output_type": "execute_result"
    }
   ],
   "source": [
    "'''\n",
    "Given an 2D array: [[5,10,15], [20,25,30], [35,40,45]] – 4 points\n",
    "    (1) Slicing to get the sub-array [[10,15], [25,30]]\n",
    "    (2) Getting individual element value \"20\"\n",
    "'''\n",
    "x=[[5,10,15], [20,25,30], [35,40,45]] \n",
    "b5=np.array(x)\n",
    "b5[:2,1:]"
   ]
  },
  {
   "cell_type": "code",
   "execution_count": 18,
   "metadata": {},
   "outputs": [
    {
     "data": {
      "text/plain": [
       "20"
      ]
     },
     "execution_count": 18,
     "metadata": {},
     "output_type": "execute_result"
    }
   ],
   "source": [
    "b5[1,0]"
   ]
  },
  {
   "cell_type": "code",
   "execution_count": 19,
   "metadata": {},
   "outputs": [
    {
     "data": {
      "text/plain": [
       "array([[ 1,  2,  3,  7,  8,  9],\n",
       "       [ 4,  5,  6, 10, 11, 12]])"
      ]
     },
     "execution_count": 19,
     "metadata": {},
     "output_type": "execute_result"
    }
   ],
   "source": [
    "'''\n",
    "- 2 points:  Let x be an array [[ 1 2 3] [ 4 5 6]]. and y be an array [[ 7 8 9] [10 11 12]].\n",
    "  Concatenate x and y so that a new array looks like\n",
    "      [[1, 2, 3, 7, 8, 9],\n",
    "        [4, 5, 6, 10, 11, 12]].\n",
    "'''\n",
    "x=np.array([[ 1, 2 ,3] ,[ 4 ,5 ,6]])\n",
    "y=np.array([[ 7, 8 ,9], [10 ,11, 12]])\n",
    "b6=np.concatenate([x,y],axis=1)\n",
    "b6"
   ]
  },
  {
   "cell_type": "code",
   "execution_count": 20,
   "metadata": {},
   "outputs": [
    {
     "data": {
      "text/plain": [
       "array([0.44444444, 0.125     , 0.5       , 1.        , 0.11111111])"
      ]
     },
     "execution_count": 20,
     "metadata": {},
     "output_type": "execute_result"
    }
   ],
   "source": [
    "'''\n",
    "Compute the min/max (min is divided by max) for each row for given 2d numpy array, in which integer values range from 1 to 10 and shape is (5,3). - 6 points\n",
    "      Require: the random seed is required to be 100.\n",
    "'''\n",
    "np.random.seed(100) \n",
    "x = np.random.randint(1,10, size=(5, 3)) \n",
    "b7max=np.amax(x,axis=1)\n",
    "b7min=np.amin(x,axis=1)\n",
    "b7=b7min/b7max\n",
    "#b00=x.min(axis=1)/x.max(axis=1)\n",
    "b7\n",
    "#b00"
   ]
  },
  {
   "cell_type": "code",
   "execution_count": 21,
   "metadata": {},
   "outputs": [
    {
     "data": {
      "text/plain": [
       "array([0, 1, 2, 3, 4, 5, 6, 7, 8, 9])"
      ]
     },
     "execution_count": 21,
     "metadata": {},
     "output_type": "execute_result"
    }
   ],
   "source": [
    "'''\n",
    "Convert 3 arrays into a flat linear 1d array. - 2 points\n",
    "     arr1: 0,1,2\n",
    "     arr2: 3,4,5,6\n",
    "     arr3: 7,8,9\n",
    "     Generate the 3 arrays by numpy arange()\n",
    "     Desired Output: array([0, 1, 2, 3, 4, 5, 6, 7, 8, 9])\n",
    "'''\n",
    "b81=np.arange(0,3)\n",
    "b82=np.arange(3,7)\n",
    "b83=np.arange(7,10)\n",
    "b8=np.concatenate((b81,b82,b83))\n",
    "b8"
   ]
  },
  {
   "cell_type": "code",
   "execution_count": 22,
   "metadata": {},
   "outputs": [
    {
     "data": {
      "text/plain": [
       "array([6, 9])"
      ]
     },
     "execution_count": 22,
     "metadata": {},
     "output_type": "execute_result"
    }
   ],
   "source": [
    "'''\n",
    "Get all items between 5 and 10 from a. - 4 points\n",
    "    [2, 6, 1, 9, 10, 3, 27]\n",
    "'''\n",
    "a=np.array([2, 6, 1, 9, 10, 3, 27])\n",
    "b9=a[np.where((a >= 5) & (a < 10))]\n",
    "b9"
   ]
  },
  {
   "cell_type": "code",
   "execution_count": 23,
   "metadata": {},
   "outputs": [
    {
     "data": {
      "text/plain": [
       "(array([1, 3, 5, 7], dtype=int64),)"
      ]
     },
     "execution_count": 23,
     "metadata": {},
     "output_type": "execute_result"
    }
   ],
   "source": [
    "'''\n",
    "Get the positions where elements of a and b match. -2 points\n",
    "    a: [1,2,3,2,3,4,3,4,5,6]\n",
    "    b: [7,2,10,2,7,4,9,4,9,8]\n",
    "'''\n",
    "a=np.array([1,2,3,2,3,4,3,4,5,6])\n",
    "b=np.array([7,2,10,2,7,4,9,4,9,8])\n",
    "b10=np.where(a==b)\n",
    "b10"
   ]
  },
  {
   "cell_type": "code",
   "execution_count": 24,
   "metadata": {},
   "outputs": [
    {
     "data": {
      "text/plain": [
       "array([ 0, -1,  2, -1,  4, -1,  6, -1,  8, -1])"
      ]
     },
     "execution_count": 24,
     "metadata": {},
     "output_type": "execute_result"
    }
   ],
   "source": [
    "'''\n",
    "Replace all odd numbers in arr with -1 without changing arr: - 4 points\n",
    "    arr: ([0, 1, 2, 3, 4, 5, 6, 7, 8, 9])\n",
    "'''\n",
    "arr=np.array([0, 1, 2, 3, 4, 5, 6, 7, 8, 9])\n",
    "b11=arr.copy()\n",
    "b11[b11%2!=0]=-1\n",
    "b11"
   ]
  },
  {
   "cell_type": "code",
   "execution_count": 25,
   "metadata": {},
   "outputs": [
    {
     "data": {
      "text/plain": [
       "array([[0, 1, 2, 3, 4, 1, 1, 1, 1, 1],\n",
       "       [5, 6, 7, 8, 9, 1, 1, 1, 1, 1]])"
      ]
     },
     "execution_count": 25,
     "metadata": {},
     "output_type": "execute_result"
    }
   ],
   "source": [
    "'''\n",
    "Stack the arrays a and then b horizontally in order. - 4 points\n",
    "    a is a 2x5 array with values from 0-9;\n",
    "    b is a 2x5 array with the values are 1 uniformly.\n",
    "'''\n",
    "a=np.arange(10).reshape(2,5)\n",
    "b=np.ones((2,5),int)\n",
    "b12=np.hstack((a,b))\n",
    "b12"
   ]
  },
  {
   "cell_type": "markdown",
   "metadata": {},
   "source": [
    "# Part-3 Indexing and Slicing:"
   ]
  },
  {
   "cell_type": "code",
   "execution_count": 26,
   "metadata": {},
   "outputs": [
    {
     "data": {
      "text/plain": [
       "array([ 6,  9, 25, 10,  8])"
      ]
     },
     "execution_count": 26,
     "metadata": {},
     "output_type": "execute_result"
    }
   ],
   "source": [
    "'''\n",
    "1) Given a 1d array: [ 3, 6, 9, 25, 10, 8] - 6 points\n",
    "\n",
    "        (1) To get all elements except the first:\n",
    "\n",
    "        (2) To get all elements except the last:\n",
    "\n",
    "        (3) To get every other element of the array (operation from the first element):\n",
    "\n",
    "        (4) To get every element of the array except the first element:\n",
    "\n",
    "        (5) To reverse the array:\n",
    "'''\n",
    "a=np.array([ 3, 6, 9, 25, 10, 8] )\n",
    "a[1:]"
   ]
  },
  {
   "cell_type": "code",
   "execution_count": 27,
   "metadata": {},
   "outputs": [
    {
     "data": {
      "text/plain": [
       "array([ 3,  6,  9, 25, 10])"
      ]
     },
     "execution_count": 27,
     "metadata": {},
     "output_type": "execute_result"
    }
   ],
   "source": [
    "a[:-1]"
   ]
  },
  {
   "cell_type": "code",
   "execution_count": 28,
   "metadata": {},
   "outputs": [
    {
     "data": {
      "text/plain": [
       "array([ 3,  9, 10])"
      ]
     },
     "execution_count": 28,
     "metadata": {},
     "output_type": "execute_result"
    }
   ],
   "source": [
    "a[::2]"
   ]
  },
  {
   "cell_type": "code",
   "execution_count": 29,
   "metadata": {},
   "outputs": [
    {
     "data": {
      "text/plain": [
       "array([ 6,  9, 25, 10,  8])"
      ]
     },
     "execution_count": 29,
     "metadata": {},
     "output_type": "execute_result"
    }
   ],
   "source": [
    "a[1:]"
   ]
  },
  {
   "cell_type": "code",
   "execution_count": 30,
   "metadata": {},
   "outputs": [
    {
     "data": {
      "text/plain": [
       "array([ 8, 10, 25,  9,  6,  3])"
      ]
     },
     "execution_count": 30,
     "metadata": {},
     "output_type": "execute_result"
    }
   ],
   "source": [
    "a[::-1]"
   ]
  },
  {
   "cell_type": "markdown",
   "metadata": {},
   "source": [
    "Q2"
   ]
  },
  {
   "cell_type": "code",
   "execution_count": 31,
   "metadata": {},
   "outputs": [
    {
     "data": {
      "text/plain": [
       "array([[ 0,  1,  2,  3],\n",
       "       [ 4,  5,  6,  7],\n",
       "       [ 8,  9, 10, 11],\n",
       "       [12, 13, 14, 15],\n",
       "       [16, 17, 18, 19],\n",
       "       [20, 21, 22, 23],\n",
       "       [24, 25, 26, 27],\n",
       "       [28, 29, 30, 31]])"
      ]
     },
     "execution_count": 31,
     "metadata": {},
     "output_type": "execute_result"
    }
   ],
   "source": [
    "'''\n",
    "Multidimensional Arrays: 8 points\n",
    "\n",
    "        (1) create an array with the components as 0-31 and the shape is (8,4). - 2 points\n",
    "\n",
    "        (2) set the 3rd element in the 1st row to 0. - 2 points\n",
    "\n",
    "        (3) the second column. - 2 points\n",
    "\n",
    "        (4) Get the 3x3 region from the array: - 2 points\n",
    "             ([ 9, 10, 11],\n",
    "              [13, 14, 15],\n",
    "              [17, 18, 19]])\n",
    "'''\n",
    "c2=np.arange(32).reshape(8,4)\n",
    "c2"
   ]
  },
  {
   "cell_type": "code",
   "execution_count": 32,
   "metadata": {},
   "outputs": [
    {
     "data": {
      "text/plain": [
       "array([[ 0,  1,  0,  3],\n",
       "       [ 4,  5,  6,  7],\n",
       "       [ 8,  9, 10, 11],\n",
       "       [12, 13, 14, 15],\n",
       "       [16, 17, 18, 19],\n",
       "       [20, 21, 22, 23],\n",
       "       [24, 25, 26, 27],\n",
       "       [28, 29, 30, 31]])"
      ]
     },
     "execution_count": 32,
     "metadata": {},
     "output_type": "execute_result"
    }
   ],
   "source": [
    "c2[0,2]=0\n",
    "c2"
   ]
  },
  {
   "cell_type": "code",
   "execution_count": 33,
   "metadata": {},
   "outputs": [
    {
     "data": {
      "text/plain": [
       "array([ 1,  5,  9, 13, 17, 21, 25, 29])"
      ]
     },
     "execution_count": 33,
     "metadata": {},
     "output_type": "execute_result"
    }
   ],
   "source": [
    "c2[:,1]"
   ]
  },
  {
   "cell_type": "code",
   "execution_count": 34,
   "metadata": {},
   "outputs": [
    {
     "data": {
      "text/plain": [
       "array([[ 9, 10, 11],\n",
       "       [13, 14, 15],\n",
       "       [17, 18, 19]])"
      ]
     },
     "execution_count": 34,
     "metadata": {},
     "output_type": "execute_result"
    }
   ],
   "source": [
    "c2[2:5,1:]"
   ]
  },
  {
   "cell_type": "markdown",
   "metadata": {},
   "source": [
    "Q3"
   ]
  },
  {
   "cell_type": "code",
   "execution_count": 35,
   "metadata": {},
   "outputs": [
    {
     "data": {
      "text/plain": [
       "array([[0., 1., 0., 1.],\n",
       "       [1., 0., 1., 0.],\n",
       "       [0., 1., 0., 1.],\n",
       "       [1., 0., 1., 0.]])"
      ]
     },
     "execution_count": 35,
     "metadata": {},
     "output_type": "execute_result"
    }
   ],
   "source": [
    "'''\n",
    "Create an 4x4 matrix in which 0 and 1 are staggered, with zeros on the main diagonal. Please use the numpy \"slicing\" method to realize. - 6 points\n",
    "             [[0. 1. 0. 1.]\n",
    "              [1. 0. 1. 0.]\n",
    "              [0. 1. 0. 1.]\n",
    "              [1. 0. 1. 0.]]\n",
    "'''\n",
    "c3=np.zeros((4,4))\n",
    "c3[::2,1::2]=1\n",
    "c3[1::2,::2]=1\n",
    "c3"
   ]
  },
  {
   "cell_type": "markdown",
   "metadata": {},
   "source": [
    "Q4"
   ]
  },
  {
   "cell_type": "code",
   "execution_count": 36,
   "metadata": {},
   "outputs": [
    {
     "data": {
      "text/plain": [
       "array([[2, 2, 2],\n",
       "       [2, 2, 2],\n",
       "       [2, 2, 2]])"
      ]
     },
     "execution_count": 36,
     "metadata": {},
     "output_type": "execute_result"
    }
   ],
   "source": [
    "'''\n",
    "Subtract the 1d array b_1d from the 2d array a_2d, such that each item of b_1d subtracts from respective row of a_2d. - 4 points\n",
    "        a_2d : [[3,3,3],[4,4,4],[5,5,5]]\n",
    "        b_1d : [1,2,3]\n",
    "        Desired Output: [[2 2 2] [2 2 2] [2 2 2]]\n",
    "'''\n",
    "b_1d=np.array([1,2,3])\n",
    "a_2d=np.array([[3,3,3],[4,4,4],[5,5,5]])\n",
    "a_2d-b_1d[:,None]"
   ]
  },
  {
   "cell_type": "code",
   "execution_count": 52,
   "metadata": {},
   "outputs": [
    {
     "data": {
      "text/plain": [
       "0.49818"
      ]
     },
     "execution_count": 52,
     "metadata": {},
     "output_type": "execute_result"
    }
   ],
   "source": [
    "'''\n",
    "Create a random array with 1000 elements and compute the average, variance, standard deviation of the array elements. - 7 points\n",
    "And print the formatted outputs which keep 5 digits after the decimal point. Require: set the random seed as 100.\n",
    "'''\n",
    "np.random.seed(100) \n",
    "c5=np.random.rand(1,1000)\n",
    "np.around(np.average(c5),5)"
   ]
  },
  {
   "cell_type": "code",
   "execution_count": 53,
   "metadata": {},
   "outputs": [
    {
     "data": {
      "text/plain": [
       "0.08249"
      ]
     },
     "execution_count": 53,
     "metadata": {},
     "output_type": "execute_result"
    }
   ],
   "source": [
    "np.around(np.var(c5),5)"
   ]
  },
  {
   "cell_type": "code",
   "execution_count": 54,
   "metadata": {},
   "outputs": [
    {
     "data": {
      "text/plain": [
       "0.28722"
      ]
     },
     "execution_count": 54,
     "metadata": {},
     "output_type": "execute_result"
    }
   ],
   "source": [
    "np.around(np.std(c5),5)"
   ]
  },
  {
   "cell_type": "markdown",
   "metadata": {},
   "source": [
    "Q5\n"
   ]
  },
  {
   "cell_type": "code",
   "execution_count": 40,
   "metadata": {},
   "outputs": [
    {
     "data": {
      "text/plain": [
       "array([[ 1,  2,  3,  4,  5,  6],\n",
       "       [ 2,  4,  6,  8, 10, 12],\n",
       "       [ 3,  6,  9, 12, 15, 18],\n",
       "       [ 4,  8, 12, 16, 20, 24],\n",
       "       [ 5, 10, 15, 20, 25, 30],\n",
       "       [ 6, 12, 18, 24, 30, 36]])"
      ]
     },
     "execution_count": 40,
     "metadata": {},
     "output_type": "execute_result"
    }
   ],
   "source": [
    "'''\n",
    "Write a 6x6 times table matrix: total 8 points\n",
    "- by using numpy broadcasting (4 points)\n",
    "- by using Python nested for-loop (4 points).\n",
    "     Desired output:\n",
    "        array([[ 1, 2, 3, 4, 5, 6],\n",
    "                   [ 2, 4, 6, 8, 10, 12],\n",
    "                   [ 3, 6, 9, 12, 15, 18],\n",
    "                   [ 4, 8, 12, 16, 20, 24],\n",
    "                   [ 5, 10, 15, 20, 25, 30],\n",
    "                   [ 6, 12, 18, 24, 30, 36]])\n",
    "'''\n",
    "a=np.arange(1,7)\n",
    "b=np.arange(1,7)\n",
    "a[:, None] * b"
   ]
  },
  {
   "cell_type": "code",
   "execution_count": 41,
   "metadata": {},
   "outputs": [
    {
     "data": {
      "text/plain": [
       "[[1, 2, 3, 4, 5, 6],\n",
       " [2, 4, 6, 8, 10, 12],\n",
       " [3, 6, 9, 12, 15, 18],\n",
       " [4, 8, 12, 16, 20, 24],\n",
       " [5, 10, 15, 20, 25, 30],\n",
       " [6, 12, 18, 24, 30, 36]]"
      ]
     },
     "execution_count": 41,
     "metadata": {},
     "output_type": "execute_result"
    }
   ],
   "source": [
    "a=[1,2,3,4,5,6]\n",
    "res=[]\n",
    "for i in range(6):\n",
    "    res.append([x*(i+1) for x in a])\n",
    "(res)\n",
    "        "
   ]
  },
  {
   "cell_type": "markdown",
   "metadata": {},
   "source": [
    "Q6"
   ]
  },
  {
   "cell_type": "code",
   "execution_count": 42,
   "metadata": {},
   "outputs": [
    {
     "data": {
      "text/plain": [
       "array([[0.54340494, 0.27836939, 0.42451759],\n",
       "       [0.84477613, 0.00471886, 0.12156912],\n",
       "       [0.67074908, 0.82585276, 0.13670659],\n",
       "       [0.57509333, 0.89132195, 0.20920212],\n",
       "       [0.18532822, 0.10837689, 0.21969749],\n",
       "       [0.97862378, 0.81168315, 0.17194101],\n",
       "       [0.81622475, 0.27407375, 0.43170418],\n",
       "       [0.94002982, 0.81764938, 0.33611195],\n",
       "       [0.17541045, 0.37283205, 0.00568851],\n",
       "       [0.25242635, 0.79566251, 0.01525497]])"
      ]
     },
     "execution_count": 42,
     "metadata": {},
     "output_type": "execute_result"
    }
   ],
   "source": [
    "'''\n",
    "Broadcasting in Practice: Centering an array: 8 points\n",
    "Imagine you have an array of 10 observations, each of which consists of 3 values(floating-point numbers). Store this in an array with the shape(10, 3). Seed is set as 100. - 2 points\n",
    "Compute the mean of each feature using the mean aggregate across the first dimension; - 2 points\n",
    "Center the X array by subtracting the mean; - 2 points\n",
    "Double-check the correctness of the centralization using the mean aggregate again (check that the centered array has near zero mean). - 2 points\n",
    "'''\n",
    "np.random.seed(100) \n",
    "c6=np.random.rand(10,3)\n",
    "c6"
   ]
  },
  {
   "cell_type": "code",
   "execution_count": 43,
   "metadata": {},
   "outputs": [
    {
     "data": {
      "text/plain": [
       "array([0.59820669, 0.51805407, 0.20723935])"
      ]
     },
     "execution_count": 43,
     "metadata": {},
     "output_type": "execute_result"
    }
   ],
   "source": [
    "cmean=c6.mean(0)\n",
    "cmean"
   ]
  },
  {
   "cell_type": "code",
   "execution_count": 44,
   "metadata": {},
   "outputs": [
    {
     "data": {
      "text/plain": [
       "array([[-0.05480175, -0.23968468,  0.21727824],\n",
       "       [ 0.24656945, -0.51333521, -0.08567023],\n",
       "       [ 0.0725424 ,  0.30779869, -0.07053276],\n",
       "       [-0.02311336,  0.37326789,  0.00196277],\n",
       "       [-0.41287847, -0.40967718,  0.01245814],\n",
       "       [ 0.3804171 ,  0.29362908, -0.03529834],\n",
       "       [ 0.21801806, -0.24398032,  0.22446483],\n",
       "       [ 0.34182313,  0.29959531,  0.1288726 ],\n",
       "       [-0.42279623, -0.14522202, -0.20155085],\n",
       "       [-0.34578033,  0.27760844, -0.19198438]])"
      ]
     },
     "execution_count": 44,
     "metadata": {},
     "output_type": "execute_result"
    }
   ],
   "source": [
    "ccen=c6-cmean\n",
    "ccen"
   ]
  },
  {
   "cell_type": "code",
   "execution_count": 45,
   "metadata": {},
   "outputs": [
    {
     "data": {
      "text/plain": [
       "array([ 3.33066907e-17,  0.00000000e+00, -1.66533454e-17])"
      ]
     },
     "execution_count": 45,
     "metadata": {},
     "output_type": "execute_result"
    }
   ],
   "source": [
    "ccen.mean(0)"
   ]
  },
  {
   "cell_type": "code",
   "execution_count": null,
   "metadata": {},
   "outputs": [],
   "source": []
  }
 ],
 "metadata": {
  "kernelspec": {
   "display_name": "Python 3",
   "language": "python",
   "name": "python3"
  },
  "language_info": {
   "codemirror_mode": {
    "name": "ipython",
    "version": 3
   },
   "file_extension": ".py",
   "mimetype": "text/x-python",
   "name": "python",
   "nbconvert_exporter": "python",
   "pygments_lexer": "ipython3",
   "version": "3.8.5"
  }
 },
 "nbformat": 4,
 "nbformat_minor": 4
}
